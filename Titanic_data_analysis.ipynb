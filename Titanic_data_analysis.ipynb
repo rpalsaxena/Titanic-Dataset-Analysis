{
 "cells": [
  {
   "cell_type": "markdown",
   "metadata": {},
   "source": [
    "# Project 2: Titanic Dataset Analysis"
   ]
  },
  {
   "cell_type": "markdown",
   "metadata": {},
   "source": [
    "                                 \n",
    "                                                                                                \n",
    "$$Submitted By : Rahul  Saxena$$\n",
    "                       \n",
    "### VARIABLE DESCRIPTIONS:\n",
    "                       \n",
    "                       \n",
    "The dataset of study contains demographics and passenger information from 891 of the 2224 passengers and crew on board the Titanic. The variables included are:\n",
    "\n",
    "        survival        Survival\n",
    "                        (0 = No; 1 = Yes)\n",
    "        pclass          Passenger Class\n",
    "                        (1 = 1st; 2 = 2nd; 3 = 3rd)\n",
    "        name            Name\n",
    "        sex             Sex\n",
    "        age             Age\n",
    "        sibsp           Number of Siblings/Spouses Aboard\n",
    "        parch           Number of Parents/Children Aboard\n",
    "        ticket          Ticket Number\n",
    "        fare            Passenger Fare\n",
    "        cabin           Cabin\n",
    "        embarked        Port of Embarkation\n",
    "                        (C = Cherbourg; Q = Queenstown; S = Southampton)\n",
    "\n",
    "SPECIAL NOTES:\n",
    "Pclass is a proxy for socio-economic status (SES)\n",
    " 1st ~ Upper; 2nd ~ Middle; 3rd ~ Lower\n",
    "\n",
    "Age is in Years; Fractional if Age less than One (1)\n",
    " If the Age is Estimated, it is in the form xx.5\n",
    "\n",
    "With respect to the family relation variables (i.e. sibsp and parch)\n",
    "some relations were ignored.  The following are the definitions used\n",
    "for sibsp and parch.\n",
    "\n",
    "Sibling:  Brother, Sister, Stepbrother, or Stepsister of Passenger Aboard Titanic\n",
    "Spouse:   Husband or Wife of Passenger Aboard Titanic (Mistresses and Fiances Ignored)\n",
    "Parent:   Mother or Father of Passenger Aboard Titanic\n",
    "Child:    Son, Daughter, Stepson, or Stepdaughter of Passenger Aboard Titanic\n",
    "\n",
    "Other family relatives excluded from this study include cousins,\n",
    "nephews/nieces, aunts/uncles, and in-laws.  Some children travelled\n",
    "only with a nanny, therefore parch=0 for them.  As well, some\n",
    "travelled with very close friends or neighbors in a village, however,\n",
    "the definitions do not support such relations."
   ]
  },
  {
   "cell_type": "markdown",
   "metadata": {},
   "source": [
    "---------------------------------------------------------------------------------------------------"
   ]
  },
  {
   "cell_type": "markdown",
   "metadata": {},
   "source": [
    "\n",
    "## Data Analysis :\n"
   ]
  },
  {
   "cell_type": "markdown",
   "metadata": {},
   "source": [
    "### Questions :\n",
    "\n",
    "In this analysis we will try to answer some questions related to Survival rate according to :\n",
    "    1. Fare category  \n",
    "    2. A person being Male or Female\n",
    "    3. Age of the person i.e, Child , Adult , Senior Citizen\n",
    "    4. Male Child or Female Child\n",
    "    5. Socio-economic status Upper Class (1st), Middle Class(2nd) , Lower Class(3rd)\n",
    "    6. Comparision of survival with respect to embarkment station\n",
    "    7. Chances of survival of Man with child(Father) or spouse(Husband) or Single?\n",
    "    8. Age-group of people with higher probablity of survival\n",
    "    "
   ]
  },
  {
   "cell_type": "markdown",
   "metadata": {},
   "source": [
    "### Investigating Data"
   ]
  },
  {
   "cell_type": "code",
   "execution_count": 2,
   "metadata": {
    "collapsed": false
   },
   "outputs": [],
   "source": [
    "import pandas as pd\n",
    "import numpy as np\n",
    "import matplotlib \n",
    "\n",
    "import seaborn as sns\n",
    "import matplotlib.pyplot as plt\n",
    "%matplotlib inline\n",
    "\n",
    "titanic_data = pd.read_csv('titanic_data.csv')"
   ]
  },
  {
   "cell_type": "code",
   "execution_count": 3,
   "metadata": {
    "collapsed": false
   },
   "outputs": [
    {
     "data": {
      "text/html": [
       "<div>\n",
       "<table border=\"1\" class=\"dataframe\">\n",
       "  <thead>\n",
       "    <tr style=\"text-align: right;\">\n",
       "      <th></th>\n",
       "      <th>PassengerId</th>\n",
       "      <th>Survived</th>\n",
       "      <th>Pclass</th>\n",
       "      <th>Name</th>\n",
       "      <th>Sex</th>\n",
       "      <th>Age</th>\n",
       "      <th>SibSp</th>\n",
       "      <th>Parch</th>\n",
       "      <th>Ticket</th>\n",
       "      <th>Fare</th>\n",
       "      <th>Cabin</th>\n",
       "      <th>Embarked</th>\n",
       "    </tr>\n",
       "  </thead>\n",
       "  <tbody>\n",
       "    <tr>\n",
       "      <th>0</th>\n",
       "      <td>1</td>\n",
       "      <td>0</td>\n",
       "      <td>3</td>\n",
       "      <td>Braund, Mr. Owen Harris</td>\n",
       "      <td>male</td>\n",
       "      <td>22.0</td>\n",
       "      <td>1</td>\n",
       "      <td>0</td>\n",
       "      <td>A/5 21171</td>\n",
       "      <td>7.2500</td>\n",
       "      <td>NaN</td>\n",
       "      <td>S</td>\n",
       "    </tr>\n",
       "    <tr>\n",
       "      <th>1</th>\n",
       "      <td>2</td>\n",
       "      <td>1</td>\n",
       "      <td>1</td>\n",
       "      <td>Cumings, Mrs. John Bradley (Florence Briggs Th...</td>\n",
       "      <td>female</td>\n",
       "      <td>38.0</td>\n",
       "      <td>1</td>\n",
       "      <td>0</td>\n",
       "      <td>PC 17599</td>\n",
       "      <td>71.2833</td>\n",
       "      <td>C85</td>\n",
       "      <td>C</td>\n",
       "    </tr>\n",
       "    <tr>\n",
       "      <th>2</th>\n",
       "      <td>3</td>\n",
       "      <td>1</td>\n",
       "      <td>3</td>\n",
       "      <td>Heikkinen, Miss. Laina</td>\n",
       "      <td>female</td>\n",
       "      <td>26.0</td>\n",
       "      <td>0</td>\n",
       "      <td>0</td>\n",
       "      <td>STON/O2. 3101282</td>\n",
       "      <td>7.9250</td>\n",
       "      <td>NaN</td>\n",
       "      <td>S</td>\n",
       "    </tr>\n",
       "    <tr>\n",
       "      <th>3</th>\n",
       "      <td>4</td>\n",
       "      <td>1</td>\n",
       "      <td>1</td>\n",
       "      <td>Futrelle, Mrs. Jacques Heath (Lily May Peel)</td>\n",
       "      <td>female</td>\n",
       "      <td>35.0</td>\n",
       "      <td>1</td>\n",
       "      <td>0</td>\n",
       "      <td>113803</td>\n",
       "      <td>53.1000</td>\n",
       "      <td>C123</td>\n",
       "      <td>S</td>\n",
       "    </tr>\n",
       "    <tr>\n",
       "      <th>4</th>\n",
       "      <td>5</td>\n",
       "      <td>0</td>\n",
       "      <td>3</td>\n",
       "      <td>Allen, Mr. William Henry</td>\n",
       "      <td>male</td>\n",
       "      <td>35.0</td>\n",
       "      <td>0</td>\n",
       "      <td>0</td>\n",
       "      <td>373450</td>\n",
       "      <td>8.0500</td>\n",
       "      <td>NaN</td>\n",
       "      <td>S</td>\n",
       "    </tr>\n",
       "  </tbody>\n",
       "</table>\n",
       "</div>"
      ],
      "text/plain": [
       "   PassengerId  Survived  Pclass  \\\n",
       "0            1         0       3   \n",
       "1            2         1       1   \n",
       "2            3         1       3   \n",
       "3            4         1       1   \n",
       "4            5         0       3   \n",
       "\n",
       "                                                Name     Sex   Age  SibSp  \\\n",
       "0                            Braund, Mr. Owen Harris    male  22.0      1   \n",
       "1  Cumings, Mrs. John Bradley (Florence Briggs Th...  female  38.0      1   \n",
       "2                             Heikkinen, Miss. Laina  female  26.0      0   \n",
       "3       Futrelle, Mrs. Jacques Heath (Lily May Peel)  female  35.0      1   \n",
       "4                           Allen, Mr. William Henry    male  35.0      0   \n",
       "\n",
       "   Parch            Ticket     Fare Cabin Embarked  \n",
       "0      0         A/5 21171   7.2500   NaN        S  \n",
       "1      0          PC 17599  71.2833   C85        C  \n",
       "2      0  STON/O2. 3101282   7.9250   NaN        S  \n",
       "3      0            113803  53.1000  C123        S  \n",
       "4      0            373450   8.0500   NaN        S  "
      ]
     },
     "execution_count": 3,
     "metadata": {},
     "output_type": "execute_result"
    }
   ],
   "source": [
    "titanic_data.head()"
   ]
  },
  {
   "cell_type": "markdown",
   "metadata": {},
   "source": [
    "### Data Wrangling\n",
    "This dataset have some NaN values which will stop us doing proper analysis. In this phase we will detect those records and will clean our dataset. "
   ]
  },
  {
   "cell_type": "code",
   "execution_count": 4,
   "metadata": {
    "collapsed": false
   },
   "outputs": [
    {
     "name": "stdout",
     "output_type": "stream",
     "text": [
      "Total null values in titanic_dataset : 866\n",
      "Total null values in Survived col titanic_dataset : 0\n",
      "Total null values in Pclass col titanic_dataset : 0\n",
      "Total null values in Name col titanic_dataset : 0\n",
      "Total null values in Sex col titanic_dataset : 0\n",
      "Total null values in Age col titanic_dataset : 177\n",
      "Total null values in Sibsp col titanic_dataset : 0\n",
      "Total null values in Parch col titanic_dataset : 0\n",
      "Total null values in Ticket col titanic_dataset : 0\n",
      "Total null values in Cabin col titanic_dataset : 687\n",
      "Total null values in Embarked col titanic_dataset : 2\n"
     ]
    },
    {
     "data": {
      "text/plain": [
       "0.22446689113355783"
      ]
     },
     "execution_count": 4,
     "metadata": {},
     "output_type": "execute_result"
    }
   ],
   "source": [
    "#Testing Presence of Null values in data set\n",
    "\n",
    "total_null_values    = titanic_data.isnull().sum().sum()               #Total null values in titanic_dataset\n",
    "null_values_survived = titanic_data.Survived.isnull().sum().sum()      #Total null values in Survived col titanic_dataset\n",
    "null_values_pclass   = titanic_data.Pclass.isnull().sum().sum()        #Total null values in Pclass col titanic_dataset\n",
    "null_values_name     = titanic_data.Name.isnull().sum().sum()          #Total null values in Name col titanic_dataset\n",
    "null_values_sex      = titanic_data.Sex.isnull().sum().sum()           #Total null values in Sex col titanic_dataset\n",
    "null_values_Age      = titanic_data.Age.isnull().sum().sum()           #Total null values in Age col titanic_dataset\n",
    "null_values_SibSp    = titanic_data.SibSp.isnull().sum().sum()         #Total null values in SibSp col titanic_dataset\n",
    "null_values_parch    = titanic_data.Parch.isnull().sum().sum()         #Total null values in Parch col titanic_dataset\n",
    "null_values_ticket   = titanic_data.Ticket.isnull().sum().sum()        #Total null values in Ticket col titanic_dataset \n",
    "null_values_fare     = titanic_data.Fare.isnull().sum().sum()          #Total null values in Fare col titanic_dataset\n",
    "null_values_cabin    = titanic_data.Cabin.isnull().sum().sum()         #Total null values in Cabin col titanic_dataset\n",
    "null_values_embarked = titanic_data.Embarked.isnull().sum().sum()      #Total null values in Embarked col titanic_dataset\n",
    "\n",
    "print 'Total null values in titanic_dataset : {}'.format(total_null_values)\n",
    "print 'Total null values in Survived col titanic_dataset : {}'.format(null_values_survived)\n",
    "print 'Total null values in Pclass col titanic_dataset : {}'.format(null_values_pclass)\n",
    "print 'Total null values in Name col titanic_dataset : {}'.format(null_values_name)\n",
    "print 'Total null values in Sex col titanic_dataset : {}'.format(null_values_sex)\n",
    "print 'Total null values in Age col titanic_dataset : {}'.format(null_values_Age)\n",
    "print 'Total null values in Sibsp col titanic_dataset : {}'.format(null_values_SibSp)\n",
    "print 'Total null values in Parch col titanic_dataset : {}'.format(null_values_parch)\n",
    "print 'Total null values in Ticket col titanic_dataset : {}'.format(null_values_ticket)\n",
    "print 'Total null values in Cabin col titanic_dataset : {}'.format(null_values_cabin)\n",
    "print 'Total null values in Embarked col titanic_dataset : {}'.format(null_values_embarked)\n",
    "\n",
    "float(2)/891*100"
   ]
  },
  {
   "cell_type": "markdown",
   "metadata": {},
   "source": [
    "It means there are 3 columns with NaN values **Age(177) =19.8 % ** , **Cabin(687) = 77.1%** ,**Embarked(2)=0.22%** of 891 values\n",
    "So, for analysis we can ignore *Embarked* for their NaN because it will not effect much. \n",
    "Let's consider the statistics of Age , Cabin column."
   ]
  },
  {
   "cell_type": "code",
   "execution_count": 5,
   "metadata": {
    "collapsed": false
   },
   "outputs": [
    {
     "data": {
      "image/png": "[encoded data removed]",
      "text/plain": [
       "<matplotlib.figure.Figure at 0xb97a668>"
      ]
     },
     "metadata": {},
     "output_type": "display_data"
    },
    {
     "name": "stdout",
     "output_type": "stream",
     "text": [
      "Mean of Age data with No NaNs = 29.6991176471\n",
      "\n",
      "\n",
      "Number of distinct cabins are 147+\n",
      "List of all distinct cabins :\n",
      "\"C78\" \"D17\" \"D50\" \"E77\" \"C30\" \"D56\" \"C32\" \"G6\" \"B50\" \"C62 C64\" \"D\" \"B102\" \"B101\" \"E68\" \"F33\" \"T\" \"F38\" \"A24\" \"E63\" \"E67\" \"B28\" \"B22\" \"B20\" \"B4\" \"B5\" \"B58 B60\" \"B3\" \"F G73\" \"C54\" \"C52\" \"C50\" \"C46\" \"F E69\" \"E58\" \"E50\" \"D28\" \"B38\" \"B39\" \"B35\" \"B37\" \"B30\" \"E121\" \"B71\" \"E8\" \"F G63\" \"C45\" \"E40\" \"C47\" \"E46\" \"E44\" \"B80\" \"E49\" \"C49\" \"B86\" \"B82 B84\" \"C23 C25 C27\" \"D48\" \"C104\" \"C106\" \"C101\" \"C103\" \"D15\" \"E34\" \"E33\" \"D11\" \"E31\" \"C70\" \"B94\" \"D19\" \"E38\" \"E36\" \"B18\" \"B19\" \"D37\" \"A32\" \"A31\" \"A36\" \"A34\" \"E101\" \"C118\" \"C2\" \"C7\" \"C111\" \"C110\" \"E24\" \"E25\" \"E12\" \"B57 B59 B63 B66\" \"C68\" \"D21\" \"D20\" \"C65\" \"D26\" \"E17\" \"A20\" \"F2\" \"A23\" \"F4\" \"A26\" \"B69\" \"B42\" \"C128\" \"C123\" \"C126\" \"C124\" \"C125\" \"B51 B53 B55\" \"D36\" \"E10\" \"D35\" \"D33\" \"D30\" \"B96 B98\" \"D10 D12\" \"C93\" \"A14\" \"C91\" \"B73\" \"A10\" \"C95\" \"B77\" \"B78\" \"B79\" \"C99\" \"A19\" \"C90\" \"A5\" \"A7\" \"A6\" \"C22 C26\" \"C92\" \"D49\" \"A16\" \"D47\" \"D46\" \"D45\" \"C82\" \"C83\" \"B41\" \"C85\" \"C86\" \"C87\" \"C148\" \"B49\" \"D9\" \"D6\" \"D7\" \n",
      "\n"
     ]
    }
   ],
   "source": [
    "Age_data = titanic_data['Age']\n",
    "no_NaN_Age = [x for x in Age_data if str(x) != 'nan']\n",
    "ax = sns.distplot(no_NaN_Age)\n",
    "ax.set(xlabel='Age', ylabel='no. of people',title=\"Distribution between Frequency Vs Age of People\")\n",
    "sns.plt.show()\n",
    "no_NaN_Age = np.array(no_NaN_Age)\n",
    "print('Mean of Age data with No NaNs = {}').format(np.mean(no_NaN_Age))\n",
    "\n",
    "Cabin_data = titanic_data['Cabin']\n",
    "no_NaN_Cabin = [x for x in Cabin_data if str(x) != 'nan']\n",
    "Cabin_set = set()\n",
    "for x in no_NaN_Cabin:\n",
    "    Cabin_set.add(x)\n",
    "    \n",
    "print '\\n'\n",
    "print('Number of distinct cabins are {}+').format(len(Cabin_set))\n",
    "print 'List of all distinct cabins :'\n",
    "for x in Cabin_set:\n",
    "    print '\"'+x+'\"',\n",
    "print '\\n'"
   ]
  },
  {
   "cell_type": "markdown",
   "metadata": {},
   "source": [
    "**Age data with No NaNs** is approximately normally distributed, so mean value will give better clarity about data's central tendancy. So, for analysis stuff we can clean the data by *replacing all NaNs with mean(29.699)* value of data.\n",
    "\n",
    "**Cabin data** is having 147+ discrete string values,due to this we cann't calculate mean value for it. We cann't even use classification model to categorize data as there will be 147+ different categories on 891 samples.There are some values with \"B51 B53 B55\"which looks like including 3 cabin no.s . So, will ignore Cabin data for analysis. \n",
    "\n",
    "*** Let's clean Age data and make it NaN free and remove Cabin data from titanic_data dataframe.**\n"
   ]
  },
  {
   "cell_type": "code",
   "execution_count": 6,
   "metadata": {
    "collapsed": false
   },
   "outputs": [],
   "source": [
    "titanic_data.Age.fillna(np.mean(no_NaN_Age),inplace=True)\n",
    "del titanic_data['Cabin']"
   ]
  },
  {
   "cell_type": "markdown",
   "metadata": {},
   "source": [
    "---------------------------------------------------------------------------------------------------"
   ]
  },
  {
   "cell_type": "markdown",
   "metadata": {},
   "source": [
    "### Q1. Analysis of Survival on the basis of Ship Fare & Sex Ratio"
   ]
  },
  {
   "cell_type": "code",
   "execution_count": 7,
   "metadata": {
    "collapsed": false
   },
   "outputs": [
    {
     "name": "stdout",
     "output_type": "stream",
     "text": [
      "No of people Survived : 342 , 38.38% of total\n",
      "No of people Died : 549 , 61.62% of total\n"
     ]
    }
   ],
   "source": [
    "#No. of different fares in Titanic Ship\n",
    "#Fare Variation\n",
    "\n",
    "fare_list = titanic_data.Fare.unique()\n",
    "fare_list = pd.DataFrame(fare_list)\n",
    "#fare_list.describe()\n",
    "\n",
    "no_survived = titanic_data['Survived'].value_counts()[1] #no of people survived\n",
    "\n",
    "#print no_survived\n",
    "no_died = len(titanic_data)  - no_survived  #no of people died\n",
    "#print no_died\n",
    "print('No of people Survived : {} , {:.2f}% of total'.format(no_survived, float(no_survived*100 )/len(titanic_data)))\n",
    "print('No of people Died : {} , {:.2f}% of total'.format(no_died, float(no_died*100 )/len(titanic_data)))\n"
   ]
  },
  {
   "cell_type": "code",
   "execution_count": 8,
   "metadata": {
    "collapsed": false
   },
   "outputs": [
    {
     "data": {
      "text/plain": [
       "102    77.2875\n",
       "Name: Fare, dtype: float64"
      ]
     },
     "execution_count": 8,
     "metadata": {},
     "output_type": "execute_result"
    }
   ],
   "source": [
    "fare_list.sort_values([0],inplace =True)\n",
    "fares = pd.DataFrame(titanic_data.Fare)\n",
    "fares.sort_values(['Fare'],inplace =True)\n",
    "\n",
    "top_90_fare = fares[800:801]['Fare']  #Top 10% fare\n",
    "top_90_fare"
   ]
  },
  {
   "cell_type": "code",
   "execution_count": 9,
   "metadata": {
    "collapsed": false
   },
   "outputs": [],
   "source": [
    "def isVIP(x):\n",
    "    if x == 0:\n",
    "        return \"LowerClass\" #Probably a Staff's relative/friend travelling with passes\n",
    "    elif x >= 77.2875:\n",
    "        return \"VIP\" # One of Top 10% guys travelling in Ship\n",
    "    else:\n",
    "        return \"Gen\" #Normal People travelling in Ship\n",
    "\n",
    "titanic_data[\"Is_VIP\"] = pd.Series(titanic_data[\"Fare\"].apply(isVIP), index=titanic_data.index)\n"
   ]
  },
  {
   "cell_type": "code",
   "execution_count": 10,
   "metadata": {
    "collapsed": false,
    "scrolled": true
   },
   "outputs": [
    {
     "name": "stdout",
     "output_type": "stream",
     "text": [
      "No. of General People with $0< fare < 77.28 : 784  , 87.99% of total\n",
      "No. of General People Survived : 272 , 34.69%\n",
      "No. of General People Died : 512, 65.31% \n",
      "\n",
      "\n",
      "No. of Lower Class People / Employees who were travelling for free : 15  , 1.68% of total\n",
      "No. of Lower Class People/ Employees Survived : 1 , 6.67%\n",
      "No. of Lower Class People/ Employees Died : 14, 93.33% \n",
      "\n",
      "\n",
      "No. of VIPs who were travelling : 92  , 10.33% of total\n",
      "No. of VIPs Survived : 69 , 75.00%\n",
      "No. of VIPs Died : 23, 25.00% \n"
     ]
    },
    {
     "data": {
      "image/png": "[encoded data removed]",
      "text/plain": [
       "<matplotlib.figure.Figure at 0x3a085f8>"
      ]
     },
     "metadata": {},
     "output_type": "display_data"
    }
   ],
   "source": [
    "no_Gen = titanic_data['Is_VIP'].value_counts()['Gen']\n",
    "no_Lower = titanic_data['Is_VIP'].value_counts()['LowerClass']\n",
    "no_VIP = titanic_data['Is_VIP'].value_counts()['VIP']\n",
    "\n",
    "\n",
    "no_Gen_survived =  titanic_data.groupby(['Is_VIP' , 'Survived']).size()['Gen'][1]\n",
    "no_Gen_died = no_Gen - no_Gen_survived\n",
    "\n",
    "no_Lower_survived =  titanic_data.groupby(['Is_VIP' , 'Survived']).size()['LowerClass'][1]\n",
    "no_Lower_died = no_Lower - no_Lower_survived\n",
    "\n",
    "no_VIP_survived =  titanic_data.groupby(['Is_VIP' , 'Survived']).size()['VIP'][1]\n",
    "no_VIP_died = no_VIP - no_VIP_survived\n",
    "\n",
    "print('No. of General People with $0< fare < 77.28 : {}  , {:.2f}% of total'.format(no_Gen, float(no_Gen*100 )/len(titanic_data)))\n",
    "print('No. of General People Survived : {} , {:.2f}%'.format(no_Gen_survived , float(no_Gen_survived)*100/no_Gen))\n",
    "print('No. of General People Died : {}, {:.2f}% '.format( no_Gen_died, float(no_Gen_died)*100/no_Gen))\n",
    "\n",
    "print '\\n'\n",
    "\n",
    "print('No. of Lower Class People / Employees who were travelling for free : {}  , {:.2f}% of total'.format(no_Lower, float(no_Lower*100 )/len(titanic_data)))\n",
    "print('No. of Lower Class People/ Employees Survived : {} , {:.2f}%'.format(no_Lower_survived , float(no_Lower_survived)*100/no_Lower))\n",
    "print('No. of Lower Class People/ Employees Died : {}, {:.2f}% '.format( no_Lower_died, float(no_Lower_died)*100/no_Lower))\n",
    "\n",
    "print '\\n'\n",
    "\n",
    "print('No. of VIPs who were travelling : {}  , {:.2f}% of total'.format(no_VIP, float(no_VIP*100 )/len(titanic_data)))\n",
    "print('No. of VIPs Survived : {} , {:.2f}%'.format(no_VIP_survived , float(no_VIP_survived)*100/no_VIP))\n",
    "print('No. of VIPs Died : {}, {:.2f}% '.format( no_VIP_died, float(no_VIP_died)*100/no_VIP))\n",
    "\n",
    "\n",
    "sns.set_style(\"whitegrid\")\n",
    "sns.barplot(data = titanic_data , y = \"Survived\" , x =\"Is_VIP\")\n",
    "plt.xlabel('Categorization according to Ticket Fare')\n",
    "plt.ylabel('Survival Rate')\n",
    "plt.title(\"Distribution of Survival rate vs Categorization according to ticket fare\" , fontsize = 13)\n",
    "sns.plt.show()"
   ]
  },
  {
   "cell_type": "code",
   "execution_count": 11,
   "metadata": {
    "collapsed": false
   },
   "outputs": [
    {
     "name": "stdout",
     "output_type": "stream",
     "text": [
      "Populating the interactive namespace from numpy and matplotlib\n"
     ]
    },
    {
     "data": {
      "text/plain": [
       "<matplotlib.text.Text at 0xba2c470>"
      ]
     },
     "execution_count": 11,
     "metadata": {},
     "output_type": "execute_result"
    },
    {
     "data": {
      "image/png": "[encoded data removed]",
      "text/plain": [
       "<matplotlib.figure.Figure at 0xb9c7ef0>"
      ]
     },
     "metadata": {},
     "output_type": "display_data"
    }
   ],
   "source": [
    "%pylab inline\n",
    "#This graph shows the basic fare analysis \n",
    "import matplotlib\n",
    "matplotlib.style.use('ggplot')\n",
    "ax = fare_list.plot(kind=\"hist\")\n",
    "ax.set_xlabel(\"Fare --->\")\n",
    "ax.set_title(\"Fare Distribution\")"
   ]
  },
  {
   "cell_type": "markdown",
   "metadata": {},
   "source": [
    "The above analysis shows that if a person is travelling with *high price ticket* i.e, **VIPs** then their survival rate is much higher then **General & Lower Class / Employees**."
   ]
  },
  {
   "cell_type": "markdown",
   "metadata": {},
   "source": [
    "---------------------------------------------------------------------------------------------------"
   ]
  },
  {
   "cell_type": "markdown",
   "metadata": {},
   "source": [
    "### Q2. Comparision of Survival for Male & Female ?"
   ]
  },
  {
   "cell_type": "code",
   "execution_count": 12,
   "metadata": {
    "collapsed": false
   },
   "outputs": [
    {
     "name": "stdout",
     "output_type": "stream",
     "text": [
      "No. of Males : 577  , 64.76% of total\n",
      "No. of Male Survived : 109 , 18.89%\n",
      "No. of Male Died : 468, 81.11% \n",
      "\n",
      "\n",
      "No. of Females : 314  , 35.24% of total\n",
      "No. of Female Survived : 233 , 74.20%\n",
      "No. of Female Died : 81, 25.80% \n"
     ]
    },
    {
     "data": {
      "image/png": "[encoded data removed]",
      "text/plain": [
       "<matplotlib.figure.Figure at 0xb9e0048>"
      ]
     },
     "metadata": {},
     "output_type": "display_data"
    }
   ],
   "source": [
    "#No. of males \n",
    "no_male = titanic_data['Sex'].value_counts()['male']\n",
    "\n",
    "no_female = titanic_data['Sex'].value_counts()['female']\n",
    "\n",
    "#Survived/Died Male guys who survived\n",
    "no_male_survived =  titanic_data.groupby(['Sex' , 'Survived']).size()[3]\n",
    "no_male_died = no_male - no_male_survived\n",
    "\n",
    "#Survived/Died Female guys who survived\n",
    "no_female_survived =  titanic_data.groupby(['Sex' , 'Survived']).size()[1]\n",
    "no_female_died = no_female - no_female_survived\n",
    "\n",
    "print('No. of Males : {}  , {:.2f}% of total'.format(no_male, float(no_male*100 )/len(titanic_data)))\n",
    "print('No. of Male Survived : {} , {:.2f}%'.format(no_male_survived , float(no_male_survived)*100/no_male))\n",
    "print('No. of Male Died : {}, {:.2f}% '.format( no_male_died, float(no_male_died)*100/no_male ))\n",
    "\n",
    "print '\\n'\n",
    "print('No. of Females : {}  , {:.2f}% of total'.format(no_female, float(no_female)*100 /len(titanic_data)))\n",
    "print('No. of Female Survived : {} , {:.2f}%'.format(no_female_survived , float(no_female_survived)*100/no_female))\n",
    "print('No. of Female Died : {}, {:.2f}% '.format( no_female_died, float(no_female_died)*100/no_female ))\n",
    "\n",
    "\n",
    "sns.set_style(\"whitegrid\")\n",
    "sns.barplot(data = titanic_data , x = \"Survived\" , y =\"Sex\",capsize=14)\n",
    "plt.ylabel('Sex (male /female)', fontsize=16)\n",
    "plt.xlabel('Survival Rate', fontsize=16)\n",
    "plt.title(\"Distribution of Survival rate vs Sex Ratio\" , fontsize = 13)\n",
    "sns.plt.show()"
   ]
  },
  {
   "cell_type": "markdown",
   "metadata": {},
   "source": [
    "The above analysis gives an insight that Females were preferred to be saved i.e, their survival rate was high "
   ]
  },
  {
   "cell_type": "markdown",
   "metadata": {},
   "source": [
    "---------------------------------------------------------------------------------------------------"
   ]
  },
  {
   "cell_type": "markdown",
   "metadata": {},
   "source": [
    "### Q3. Analysis of Survival according to age , i.e, Children | Adults | Senior Citizens"
   ]
  },
  {
   "cell_type": "code",
   "execution_count": 13,
   "metadata": {
    "collapsed": false
   },
   "outputs": [],
   "source": [
    "def isAge(x):\n",
    "    if x < 18.0:\n",
    "        return \"Child\" \n",
    "    elif x >60.0:\n",
    "        return \"Senior Citizen\"\n",
    "    else:\n",
    "        return \"Adult\"\n",
    "\n",
    "titanic_data[\"IsChild\"] = pd.Series(titanic_data[\"Age\"].apply(isAge), index=titanic_data.index)"
   ]
  },
  {
   "cell_type": "code",
   "execution_count": 14,
   "metadata": {
    "collapsed": false
   },
   "outputs": [
    {
     "name": "stdout",
     "output_type": "stream",
     "text": [
      "No. of Children : 113  , 12.68% of total\n",
      "No. of Child Survived : 61 , 53.98%\n",
      "No. of Child Died : 52, 46.02% \n",
      "\n",
      "\n",
      "No. of Senior Citizen : 22  , 2.47% of total\n",
      "No. of Senior Citizen Survived : 5 , 22.73%\n",
      "No. of Senior Citizen Died : 17, 77.27% \n",
      "\n",
      "\n",
      "No. of Adults : 756  , 84.85% of total\n",
      "No. of Adults Survived : 276 , 36.51%\n",
      "No. of Adults  Died : 480, 63.49% \n"
     ]
    },
    {
     "data": {
      "image/png": "[encoded data removed]",
      "text/plain": [
       "<matplotlib.figure.Figure at 0xbfb0eb8>"
      ]
     },
     "metadata": {},
     "output_type": "display_data"
    }
   ],
   "source": [
    "no_Child = titanic_data['IsChild'].value_counts()['Child']\n",
    "no_SrCz = titanic_data['IsChild'].value_counts()['Senior Citizen']\n",
    "no_Adult = titanic_data['IsChild'].value_counts()['Adult']\n",
    "\n",
    "no_Child_survived =  titanic_data.groupby(['IsChild' , 'Survived']).size()['Child'][1]\n",
    "no_Child_died = no_Child - no_Child_survived\n",
    "\n",
    "#Survived/Died Female guys who survived\n",
    "no_SrCz_survived =  titanic_data.groupby(['IsChild' , 'Survived']).size()['Senior Citizen'][1]\n",
    "no_SrCz_died = no_SrCz - no_SrCz_survived\n",
    "\n",
    "no_Adult_survived =  titanic_data.groupby(['IsChild' , 'Survived']).size()['Adult'][1]\n",
    "no_Adult_died = no_Adult - no_Adult_survived\n",
    "\n",
    "\n",
    "print('No. of Children : {}  , {:.2f}% of total'.format(no_Child, float(no_Child*100 )/len(titanic_data)))\n",
    "print('No. of Child Survived : {} , {:.2f}%'.format(no_Child_survived , float(no_Child_survived)*100/no_Child))\n",
    "print('No. of Child Died : {}, {:.2f}% '.format( no_Child_died, float(no_Child_died)*100/no_Child ))\n",
    "\n",
    "print '\\n'\n",
    "\n",
    "print('No. of Senior Citizen : {}  , {:.2f}% of total'.format(no_SrCz, float(no_SrCz*100 )/len(titanic_data)))\n",
    "print('No. of Senior Citizen Survived : {} , {:.2f}%'.format(no_SrCz_survived , float(no_SrCz_survived)*100/no_SrCz))\n",
    "print('No. of Senior Citizen Died : {}, {:.2f}% '.format( no_SrCz_died, float(no_SrCz_died)*100/no_SrCz ))\n",
    "\n",
    "print '\\n'\n",
    "\n",
    "print('No. of Adults : {}  , {:.2f}% of total'.format(no_Adult, float(no_Adult*100 )/len(titanic_data)))\n",
    "print('No. of Adults Survived : {} , {:.2f}%'.format(no_Adult_survived , float(no_Adult_survived)*100/no_Adult))\n",
    "print('No. of Adults  Died : {}, {:.2f}% '.format( no_Adult_died, float(no_Adult_died)*100/no_Adult ))\n",
    "\n",
    "\n",
    "sns.set_style(\"whitegrid\")\n",
    "sns.barplot(data = titanic_data , y = \"Survived\" , x =\"IsChild\")\n",
    "plt.ylabel('Survival Rate', fontsize=16)\n",
    "plt.xlabel('Categorization according to age', fontsize=16)\n",
    "plt.title(\"Distribution of Survival rate vs Categorization according to age\" , fontsize = 13)\n",
    "sns.plt.show()"
   ]
  },
  {
   "cell_type": "markdown",
   "metadata": {},
   "source": [
    "The Above Analysis shows that \n",
    "\n",
    "> * **54% of Children** were saved. So, survival of children were **higher than Adults and Senior Citizens.**\n",
    "\n",
    "> * Survival Rate of ** Adults(36.5%)** is ** higher**  than ** Senior Citizens(22.7%)**\n",
    "\n"
   ]
  },
  {
   "cell_type": "markdown",
   "metadata": {},
   "source": [
    "---------------------------------------------------------------------------------------------------"
   ]
  },
  {
   "cell_type": "markdown",
   "metadata": {},
   "source": [
    "### Q4. Analysis of Survival in  Male Child and Female Child"
   ]
  },
  {
   "cell_type": "code",
   "execution_count": 15,
   "metadata": {
    "collapsed": false
   },
   "outputs": [
    {
     "name": "stdout",
     "output_type": "stream",
     "text": [
      "No. of Female Child : 55  , 6.17% of total\n",
      "No. of Female Child Survived : 38 , 69.09%\n",
      "No. of Female Child Died : 17, 30.91% \n",
      "\n",
      "\n",
      "No. of Male Child : 58  , 6.51% of total\n",
      "No. of Male Child Survived : 23 , 39.66%\n",
      "No. of Male Child Died : 35, 60.34% \n",
      "\n",
      "\n"
     ]
    },
    {
     "data": {
      "image/png": "[encoded data removed]",
      "text/plain": [
       "<matplotlib.figure.Figure at 0xb9e0550>"
      ]
     },
     "metadata": {},
     "output_type": "display_data"
    }
   ],
   "source": [
    "no_Female_Child = titanic_data.groupby(['IsChild' , 'Sex']).size()['Child']['female']\n",
    "no_male_Child =  titanic_data.groupby(['IsChild' , 'Sex']).size()['Child']['male']\n",
    "\n",
    "no_CFemale_Survived = titanic_data.groupby(['IsChild' ,'Survived', 'Sex']).size()['Child'][1]['female']\n",
    "no_CFemale_Died = no_Female_Child - no_CFemale_Survived\n",
    "no_CMale_Survived = titanic_data.groupby(['IsChild' ,'Survived', 'Sex']).size()['Child'][1]['male']\n",
    "no_CMale_Died = no_male_Child -no_CMale_Survived\n",
    "\n",
    "\n",
    "print('No. of Female Child : {}  , {:.2f}% of total'.format(no_Female_Child, float(no_Female_Child*100 )/len(titanic_data)))\n",
    "print('No. of Female Child Survived : {} , {:.2f}%'.format(no_CFemale_Survived , float(no_CFemale_Survived)*100/no_Female_Child))\n",
    "print('No. of Female Child Died : {}, {:.2f}% '.format( no_CFemale_Died, float(no_CFemale_Died)*100/no_Female_Child ))\n",
    "\n",
    "print '\\n'\n",
    "\n",
    "print('No. of Male Child : {}  , {:.2f}% of total'.format(no_male_Child, float(no_male_Child*100 )/len(titanic_data)))\n",
    "print('No. of Male Child Survived : {} , {:.2f}%'.format(no_CMale_Survived , float(no_CMale_Survived)*100/no_male_Child))\n",
    "print('No. of Male Child Died : {}, {:.2f}% '.format( no_CMale_Died, float(no_CMale_Died)*100/no_male_Child ))\n",
    "\n",
    "print '\\n'\n",
    "sns.set_style(\"darkgrid\")\n",
    "sns.barplot(data = titanic_data , y = \"Survived\" , x =\"Sex\"  , hue=\"IsChild\")\n",
    "plt.ylabel('Survival Rate', fontsize=16)\n",
    "plt.title(\"Distribution of Survival rate vs Sex Ratio vs Age Categorization\" , fontsize = 13)\n",
    "sns.plt.show()\n"
   ]
  },
  {
   "cell_type": "markdown",
   "metadata": {},
   "source": [
    "It shows that Survival Rate of **Female Children(69%) is more than Male Child(40%)**"
   ]
  },
  {
   "cell_type": "markdown",
   "metadata": {},
   "source": [
    "---------------------------------------------------------------------------------------------------"
   ]
  },
  {
   "cell_type": "markdown",
   "metadata": {},
   "source": [
    "### Q5. Analysis of Survival according to Socio-economic status Upper Class (1st), Middle Class(2nd) , Lower Class(3rd)"
   ]
  },
  {
   "cell_type": "code",
   "execution_count": 16,
   "metadata": {
    "collapsed": false
   },
   "outputs": [
    {
     "name": "stdout",
     "output_type": "stream",
     "text": [
      "No. of Class 1 people : 216  , 24.24% of total\n",
      "No. of Class 1 people Survived : 136 , 62.96%\n",
      "No. of Class 1 people Died : 80, 37.04% \n",
      "\n",
      "\n",
      "No. of Class 2 people : 184  , 20.65% of total\n",
      "No. of Class 2 people Survived : 87 , 47.28%\n",
      "No. of Class 2 people Died : 97, 52.72% \n",
      "\n",
      "\n",
      "No. of Class 3 people : 491  , 55.11% of total\n",
      "No. of Class 3 people Survived : 119 , 24.24%\n",
      "No. of Class 3 people Died : 372, 75.76% \n"
     ]
    },
    {
     "data": {
      "image/png": "[encoded data removed]",
      "text/plain": [
       "<matplotlib.figure.Figure at 0xbf2cf28>"
      ]
     },
     "metadata": {},
     "output_type": "display_data"
    }
   ],
   "source": [
    "no_class_1 = titanic_data['Pclass'].value_counts()[1]\n",
    "no_class_2 = titanic_data['Pclass'].value_counts()[2]\n",
    "no_class_3 = titanic_data['Pclass'].value_counts()[3]\n",
    "\n",
    "#print titanic_data.groupby(['Pclass' , 'Survived']).size()\n",
    "\n",
    "no_class_1_survived =  titanic_data.groupby(['Pclass' , 'Survived']).size()[1][1]\n",
    "no_class_1_died = no_class_1 - no_class_1_survived\n",
    "\n",
    "no_class_2_survived =  titanic_data.groupby(['Pclass' , 'Survived']).size()[2][1]\n",
    "no_class_2_died = no_class_2 - no_class_2_survived\n",
    "\n",
    "no_class_3_survived =  titanic_data.groupby(['Pclass' , 'Survived']).size()[3][1]\n",
    "no_class_3_died = no_class_3 - no_class_3_survived\n",
    "\n",
    "print('No. of Class 1 people : {}  , {:.2f}% of total'.format(no_class_1, float(no_class_1*100 )/len(titanic_data)))\n",
    "print('No. of Class 1 people Survived : {} , {:.2f}%'.format(no_class_1_survived , float(no_class_1_survived)*100/no_class_1))\n",
    "print('No. of Class 1 people Died : {}, {:.2f}% '.format( no_class_1_died, float(no_class_1_died)*100/no_class_1 ))\n",
    "\n",
    "print '\\n'\n",
    "print('No. of Class 2 people : {}  , {:.2f}% of total'.format(no_class_2, float(no_class_2)*100 /len(titanic_data)))\n",
    "print('No. of Class 2 people Survived : {} , {:.2f}%'.format(no_class_2_survived , float(no_class_2_survived)*100/no_class_2))\n",
    "print('No. of Class 2 people Died : {}, {:.2f}% '.format( no_class_2_died, float(no_class_2_died)*100/no_class_2 ))\n",
    "\n",
    "print '\\n'\n",
    "print('No. of Class 3 people : {}  , {:.2f}% of total'.format(no_class_3, float(no_class_3)*100 /len(titanic_data)))\n",
    "print('No. of Class 3 people Survived : {} , {:.2f}%'.format(no_class_3_survived , float(no_class_3_survived)*100/no_class_3))\n",
    "print('No. of Class 3 people Died : {}, {:.2f}% '.format( no_class_3_died, float(no_class_3_died)*100/no_class_3 ))\n",
    "\n",
    "\n",
    "sns.set_style(\"darkgrid\")\n",
    "sns.barplot(data = titanic_data , y = \"Survived\" , x =\"Pclass\" )\n",
    "plt.ylabel('Survival Rate', fontsize=16)\n",
    "plt.xlabel('Passenger Class', fontsize=16)\n",
    "plt.title(\"Distribution of Survival rate vs Passenger Class\" , fontsize = 13)\n",
    "sns.plt.show()\n",
    "\n"
   ]
  },
  {
   "cell_type": "markdown",
   "metadata": {},
   "source": [
    "It shows that **Upper Class (63%)** were **preffered** over **Middle Class(47%) & Lower Class(24%)** people."
   ]
  },
  {
   "cell_type": "markdown",
   "metadata": {},
   "source": [
    "---------------------------------------------------------------------------------------------------"
   ]
  },
  {
   "cell_type": "markdown",
   "metadata": {},
   "source": [
    "### Q6. Chances of Survival According to Embarkment Station."
   ]
  },
  {
   "cell_type": "code",
   "execution_count": 17,
   "metadata": {
    "collapsed": false
   },
   "outputs": [
    {
     "name": "stdout",
     "output_type": "stream",
     "text": [
      "No. of People boarded from Cherbourg : 168  , 18.86% of total\n",
      "No. of People boarded from Cherbourg  who Survived: 93 , 55.36%\n",
      "No. of People boarded from Cherbourg  who Died : 75, 44.64% \n",
      "\n",
      "\n",
      "No. of People boarded from Queenstown : 77  , 20.65% of total\n",
      "No. of People boarded from Queenstown  who Survived : 30 , 38.96%\n",
      "No. of People boarded from Queenstown  who Died : 47, 61.04% \n",
      "\n",
      "\n",
      "No. of People boarded from Southampton : 644  , 72.28% of total\n",
      "No. of People boarded from Southampton  who Survived : 217 , 33.70%\n",
      "No. of People boarded from Southampton  who Died : 427, 66.30% \n"
     ]
    },
    {
     "data": {
      "image/png": "[encoded data removed]",
      "text/plain": [
       "<matplotlib.figure.Figure at 0xbf2cf98>"
      ]
     },
     "metadata": {},
     "output_type": "display_data"
    }
   ],
   "source": [
    "no_boarded_C = titanic_data['Embarked'].value_counts()['C']\n",
    "no_boarded_Q = titanic_data['Embarked'].value_counts()['Q']\n",
    "no_boarded_S = titanic_data['Embarked'].value_counts()['S']\n",
    "\n",
    "#print titanic_data.groupby(['Embarked' , 'Survived']).size()\n",
    "\n",
    "no_boarded_C_survived =  titanic_data.groupby(['Embarked' , 'Survived']).size()['C'][1]\n",
    "no_boarded_C_died = no_boarded_C - no_boarded_C_survived\n",
    "\n",
    "no_boarded_Q_survived =  titanic_data.groupby(['Embarked' , 'Survived']).size()['Q'][1]\n",
    "no_boarded_Q_died = no_boarded_Q - no_boarded_Q_survived\n",
    "\n",
    "no_boarded_S_survived =  titanic_data.groupby(['Embarked' , 'Survived']).size()['S'][1]\n",
    "no_boarded_S_died = no_boarded_S - no_boarded_S_survived\n",
    "\n",
    "print('No. of People boarded from Cherbourg : {}  , {:.2f}% of total'.format(no_boarded_C, float(no_boarded_C*100 )/len(titanic_data)))\n",
    "print('No. of People boarded from Cherbourg  who Survived: {} , {:.2f}%'.format(no_boarded_C_survived , float(no_boarded_C_survived)*100/no_boarded_C))\n",
    "print('No. of People boarded from Cherbourg  who Died : {}, {:.2f}% '.format( no_boarded_C_died, float(no_boarded_C_died)*100/no_boarded_C ))\n",
    "\n",
    "print '\\n'\n",
    "print('No. of People boarded from Queenstown : {}  , {:.2f}% of total'.format(no_boarded_Q, float(no_class_2)*100 /len(titanic_data)))\n",
    "print('No. of People boarded from Queenstown  who Survived : {} , {:.2f}%'.format(no_boarded_Q_survived , float(no_boarded_Q_survived)*100/no_boarded_Q))\n",
    "print('No. of People boarded from Queenstown  who Died : {}, {:.2f}% '.format( no_boarded_Q_died, float(no_boarded_Q_died)*100/no_boarded_Q ))\n",
    "\n",
    "print '\\n'\n",
    "print('No. of People boarded from Southampton : {}  , {:.2f}% of total'.format(no_boarded_S, float(no_boarded_S)*100 /len(titanic_data)))\n",
    "print('No. of People boarded from Southampton  who Survived : {} , {:.2f}%'.format(no_boarded_S_survived , float(no_boarded_S_survived)*100/no_boarded_S))\n",
    "print('No. of People boarded from Southampton  who Died : {}, {:.2f}% '.format( no_boarded_S_died, float(no_boarded_S_died)*100/no_boarded_S ))\n",
    "\n",
    "sns.set_style(\"darkgrid\")\n",
    "sns.barplot(data = titanic_data , y = \"Survived\" , x =\"Embarked\" )\n",
    "plt.ylabel('Survival Rate', fontsize=16)\n",
    "plt.xlabel('Embarkment Station', fontsize=16)\n",
    "plt.title(\"Distribution of Survival rate vs Embarkment Station\" , fontsize = 13)\n",
    "sns.plt.show()\n",
    "\n"
   ]
  },
  {
   "cell_type": "markdown",
   "metadata": {},
   "source": [
    "It shows that people who boarded from :\n",
    "   > * **Cherbourg** had higher probablity of survival**(55.36%) **\n",
    "   > * **Southampton**  had lowest probablity of survival**(33.7%)**\n",
    "    "
   ]
  },
  {
   "cell_type": "markdown",
   "metadata": {
    "collapsed": true
   },
   "source": [
    "-------------------------------------------------------------------------------------------"
   ]
  },
  {
   "cell_type": "markdown",
   "metadata": {},
   "source": [
    "### Q7. Chances of survival of Man with child(Father) or spouse(Husband) or Single"
   ]
  },
  {
   "cell_type": "code",
   "execution_count": 18,
   "metadata": {
    "collapsed": false
   },
   "outputs": [
    {
     "name": "stderr",
     "output_type": "stream",
     "text": [
      "C:\\Users\\RAHUL\\Anaconda2\\lib\\site-packages\\ipykernel\\__main__.py:15: SettingWithCopyWarning: \n",
      "A value is trying to be set on a copy of a slice from a DataFrame.\n",
      "Try using .loc[row_indexer,col_indexer] = value instead\n",
      "\n",
      "See the caveats in the documentation: http://pandas.pydata.org/pandas-docs/stable/indexing.html#indexing-view-versus-copy\n"
     ]
    },
    {
     "name": "stdout",
     "output_type": "stream",
     "text": [
      "No. of Adult Fathers : 34  , 3.82% of total\n",
      "No. of Adult Fathers Survived : 6 , 17.65%\n",
      "No. of Adult Fathers Died : 28, 82.35% \n",
      "\n",
      "\n",
      "No. of Adult Husband : 70  , 7.86% of total\n",
      "No. of Adult Husband Survived : 15 , 21.43%\n",
      "No. of Adult Husband Died : 55, 78.57% \n",
      "\n",
      "\n",
      "No. of Adult Single : 415  , 46.58% of total\n",
      "No. of Adult Single Survived : 65 , 15.66%\n",
      "No. of Adult Single Died : 350, 84.34% \n",
      "\n",
      "\n"
     ]
    },
    {
     "data": {
      "image/png": "[encoded data removed]",
      "text/plain": [
       "<matplotlib.figure.Figure at 0xb8e2e80>"
      ]
     },
     "metadata": {},
     "output_type": "display_data"
    }
   ],
   "source": [
    "def isAdultMan(x):\n",
    "    return (x[\"IsChild\"] ==\"Senior Citizen\" or x[\"IsChild\"] ==\"Adult\")  and x[\"Sex\"] == \"male\"\n",
    "\n",
    "adult_man_titanic_data = titanic_data[titanic_data.apply(isAdultMan, axis=1)]\n",
    "\n",
    "\n",
    "def isFamilyMan(x):\n",
    "    if x[\"SibSp\"] > 0:\n",
    "        if x[\"Parch\"] > 0:\n",
    "            return \"Father\"\n",
    "        else:\n",
    "            return \"Husband\"\n",
    "    else:\n",
    "        return \"Single\"\n",
    "adult_man_titanic_data[\"FamilyMan\"] = pd.Series(adult_man_titanic_data.apply(isFamilyMan, axis=1), index=adult_man_titanic_data.index)\n",
    "# print adult_man_titanic_data[\"FamilyMan\"].value_counts()\n",
    "\n",
    "no_Adult_Fathers_survived =  adult_man_titanic_data.groupby(['FamilyMan' , 'Survived']).size()['Father'][1]\n",
    "no_Adult_Fathers_died = adult_man_titanic_data.groupby(['FamilyMan' , 'Survived']).size()['Father'][0]\n",
    "\n",
    "no_Fathers = adult_man_titanic_data[\"FamilyMan\"].value_counts()[\"Father\"]\n",
    "\n",
    "print('No. of Adult Fathers : {}  , {:.2f}% of total'.format(no_Fathers , float(no_Fathers *100 )/len(titanic_data)))\n",
    "print('No. of Adult Fathers Survived : {} , {:.2f}%'.format(no_Adult_Fathers_survived , float(no_Adult_Fathers_survived)*100/no_Fathers))\n",
    "print('No. of Adult Fathers Died : {}, {:.2f}% '.format( no_Adult_Fathers_died, float(no_Adult_Fathers_died)*100/no_Fathers ))\n",
    "\n",
    "print '\\n'\n",
    "\n",
    "no_Husband_survived =  adult_man_titanic_data.groupby(['FamilyMan' , 'Survived']).size()['Husband'][1]\n",
    "no_Husband_died = adult_man_titanic_data.groupby(['FamilyMan' , 'Survived']).size()['Husband'][0]\n",
    "\n",
    "\n",
    "no_Husband = adult_man_titanic_data[\"FamilyMan\"].value_counts()[\"Husband\"]\n",
    "\n",
    "print('No. of Adult Husband : {}  , {:.2f}% of total'.format(no_Husband , float(no_Husband *100 )/len(titanic_data)))\n",
    "print('No. of Adult Husband Survived : {} , {:.2f}%'.format(no_Husband_survived , float(no_Husband_survived)*100/no_Husband))\n",
    "print('No. of Adult Husband Died : {}, {:.2f}% '.format( no_Husband_died, float(no_Husband_died)*100/no_Husband ))\n",
    "\n",
    "print '\\n'\n",
    "\n",
    "no_Single_survived =  adult_man_titanic_data.groupby(['FamilyMan' , 'Survived']).size()['Single'][1]\n",
    "no_Single_died = adult_man_titanic_data.groupby(['FamilyMan' , 'Survived']).size()['Single'][0]\n",
    "\n",
    "no_Single = adult_man_titanic_data[\"FamilyMan\"].value_counts()[\"Single\"]\n",
    "\n",
    "print('No. of Adult Single : {}  , {:.2f}% of total'.format(no_Single , float(no_Single *100 )/len(titanic_data)))\n",
    "print('No. of Adult Single Survived : {} , {:.2f}%'.format(no_Single_survived , float(no_Single_survived)*100/no_Single))\n",
    "print('No. of Adult Single Died : {}, {:.2f}% '.format( no_Single_died, float(no_Single_died)*100/no_Single ))\n",
    "\n",
    "print '\\n'\n",
    "\n",
    "\n",
    "\n",
    "sns.set_style(\"darkgrid\")\n",
    "g= sns.factorplot(data=adult_man_titanic_data,x=\"Survived\", col=\"FamilyMan\", kind=\"count\" )\n",
    "g.set_axis_labels(\"\", \"Survival Rate\").set_xticklabels([\"Died\", \"Survived\"])\n",
    "sns.plt.show()"
   ]
  },
  {
   "cell_type": "markdown",
   "metadata": {},
   "source": [
    "It shows that Suvival rate of Man travelling with their Wife is Higher that Man travelling with their kids"
   ]
  },
  {
   "cell_type": "markdown",
   "metadata": {},
   "source": [
    "----------------"
   ]
  },
  {
   "cell_type": "markdown",
   "metadata": {},
   "source": [
    "### Q8. Best Age-group which had highest probablity of survival"
   ]
  },
  {
   "cell_type": "code",
   "execution_count": 19,
   "metadata": {
    "collapsed": false
   },
   "outputs": [
    {
     "data": {
      "image/png": "[encoded data removed]",
      "text/plain": [
       "<matplotlib.figure.Figure at 0xc100a20>"
      ]
     },
     "metadata": {},
     "output_type": "display_data"
    }
   ],
   "source": [
    "Best_Age = titanic_data[titanic_data['Survived']==1]['Age']\n",
    "ax = sns.distplot(Best_Age,bins=30)\n",
    "ax.set(xlabel='Age', ylabel='no. of people',title=\"Distribution between Frequency Vs Age of People\")\n",
    "sns.plt.show()"
   ]
  },
  {
   "cell_type": "markdown",
   "metadata": {},
   "source": [
    "It shows that **(29 - 32) age group** people survived more"
   ]
  },
  {
   "cell_type": "markdown",
   "metadata": {},
   "source": [
    "------------------------------------"
   ]
  },
  {
   "cell_type": "markdown",
   "metadata": {},
   "source": [
    "## Conclusions :\n",
    "    \n",
    "From the above analysis , we are able to understand 2 points:\n",
    ">  Women first\n",
    "\n",
    ">  Children first\n",
    "     \n",
    "But this is analysis and this conclusion can be true or false. Using two-proportion z-test we can check the difference between two proportion. We saw that survival rate was higher in female than in male and also the same in children.\n",
    "   \n",
    "Lets conduct a hypothesis test to see if there is a significant difference between proportions. \n",
    "Lets start with male and female:\n",
    "                              $$H0:Pmale−Pfemale=0$$\n",
    "                              $$HA:Pmale−Pfemale≠0$$\n",
    "    \n",
    "    \n",
    "To be able to perform the test, these four counditions need to be met:\n",
    "> * The sampling method for each population is simple random sampling.\n",
    "> * The samples are independent.\n",
    "> * Each sample includes at least 10 successes and 10 failures.\n",
    "> * Each population is at least 20 times as big as its sample.\n",
    "\n",
    "Here except population to be 20 times of sample all the conditions are true. But, let's consider it to be true because we are not sure about population.\n",
    "\n",
    "Lets take $$α = 0.05$$\n",
    "    \n",
    "Pooled sample proportion:\n",
    "    $$p=(pmale∗nmale+pfemale∗nfemale)/(nmale+nfemale)$$\n",
    " \n",
    "Standard error:\n",
    "    $$SE=\\sqrt{(p∗(1−p)∗((1/nmale)+(1/nfemale))}$$\n",
    " \n",
    "Test statistic:\n",
    "    $$z=(pmale−pfemale)/SE$$"
   ]
  },
  {
   "cell_type": "code",
   "execution_count": 20,
   "metadata": {
    "collapsed": false
   },
   "outputs": [
    {
     "name": "stdout",
     "output_type": "stream",
     "text": [
      "p : 0.383838383838\n",
      "SE :  0.0341041824181\n",
      "z : -16.2188339307\n"
     ]
    }
   ],
   "source": [
    "import math\n",
    "from math import sqrt\n",
    "pmale = float(no_male_survived)/no_male;\n",
    "pfemale = float(no_female_survived)/no_female;\n",
    "p = (pmale * no_male + pfemale * no_female) / len(titanic_data)\n",
    "print \"p :\", p\n",
    "x= float(1)/no_male + float(1)/no_female\n",
    "y = p * ( 1 - p ) * (  x)\n",
    "\n",
    "SE = math.sqrt(y)\n",
    "print \"SE : \", SE\n",
    "z = (pmale - pfemale) / SE\n",
    "print \"z :\", z"
   ]
  },
  {
   "cell_type": "markdown",
   "metadata": {},
   "source": [
    "On this z-score , P-value will be very small. So we consider rejecting null hypothesis & say that there is a significant difference between proportions\n",
    "\n",
    "Now Lets check Child/Adult case:\n"
   ]
  },
  {
   "cell_type": "code",
   "execution_count": 21,
   "metadata": {
    "collapsed": false
   },
   "outputs": [
    {
     "name": "stdout",
     "output_type": "stream",
     "text": [
      "p : 0.383838383838\n",
      "SE :  0.0489588663386\n",
      "z : 3.64878729695\n"
     ]
    }
   ],
   "source": [
    "pchild = float(no_Child_survived)/no_Child\n",
    "# Considering all 18+ people as adult\n",
    "padult = float(no_Adult_survived+no_SrCz_survived)/(no_SrCz+no_Adult)\n",
    "p = (pchild * no_Child + padult * (no_SrCz+no_Adult)) / len(titanic_data)\n",
    "print \"p :\", p\n",
    "SE = math.sqrt(p * ( 1 - p ) * ( float(1)/no_Child + float(1)/(no_SrCz+no_Adult) ))\n",
    "print \"SE : \", SE\n",
    "z = (pchild - padult) / SE\n",
    "print \"z :\", z"
   ]
  },
  {
   "cell_type": "markdown",
   "metadata": {},
   "source": [
    "For z= 3.6487 , P value is  0.000264 which is very less as compared to 0.05. The difference between proportions is quite high. \n",
    "So, we consider rejecting Null hypothesis.\n",
    "\n",
    "\n",
    "Similarly we can do this same test with many other answers (all where proportions are compared).\n",
    "The main conclusion about the questions is that the data set is not a good sample to perform some analysis and made conclusions about the population."
   ]
  },
  {
   "cell_type": "markdown",
   "metadata": {},
   "source": [
    "### References \n",
    "\n",
    "The list of sources used to complete this investigation is:\n",
    "> * Titanic dataset (Data Analyst Nanodegree Project 2)\n",
    "> * Video lectures udacity \n",
    "> * Pandas documentation [link](http://pandas.pydata.org/pandas-docs/stable/#)\n",
    "> * Numpy Documentation [link](http://docs.scipy.org/doc/numpy/reference/)\n",
    "> * Seaborn statistical data visualization reference page [link](http://stanford.edu/~mwaskom/software/seaborn/)\n",
    "> * Tutorials [pandas](www.gregreda.com/2013/10/26/working-with-pandas-dataframes/) , [latex](http://stackoverflow.com/questions/13208286/how-to-write-latex-in-ipython-notebook)\n",
    "> * nbconvert for conversion of ipynb to html [link](https://github.com/jupyter/nbconvert)"
   ]
  },
  {
   "cell_type": "code",
   "execution_count": null,
   "metadata": {
    "collapsed": true
   },
   "outputs": [],
   "source": []
  },
  {
   "cell_type": "code",
   "execution_count": null,
   "metadata": {
    "collapsed": true
   },
   "outputs": [],
   "source": []
  },
  {
   "cell_type": "code",
   "execution_count": null,
   "metadata": {
    "collapsed": true
   },
   "outputs": [],
   "source": []
  }
 ],
 "metadata": {
  "anaconda-cloud": {},
  "kernelspec": {
   "display_name": "Python [Root]",
   "language": "python",
   "name": "Python [Root]"
  },
  "language_info": {
   "codemirror_mode": {
    "name": "ipython",
    "version": 2
   },
   "file_extension": ".py",
   "mimetype": "text/x-python",
   "name": "python",
   "nbconvert_exporter": "python",
   "pygments_lexer": "ipython2",
   "version": "2.7.12"
  }
 },
 "nbformat": 4,
 "nbformat_minor": 0
}
